{
 "cells": [
  {
   "cell_type": "code",
   "execution_count": 1,
   "metadata": {},
   "outputs": [
    {
     "name": "stdout",
     "output_type": "stream",
     "text": [
      "/Users/anurag/Desktop/anurag_python/Learning_Python/day2/practice\n"
     ]
    }
   ],
   "source": [
    "import os\n",
    "\n",
    "def display_cwd():\n",
    "    #get current working girectory\n",
    "    path= os.getcwd();\n",
    "    print(path)\n",
    "\n",
    "if __name__ == \"__main__\":\n",
    "    display_cwd()"
   ]
  },
  {
   "cell_type": "code",
   "execution_count": null,
   "metadata": {},
   "outputs": [
    {
     "name": "stdout",
     "output_type": "stream",
     "text": [
      "None\n",
      "/Users/anurag/Desktop/anurag_python/Learning_Python\n"
     ]
    }
   ],
   "source": [
    "##go to different files\n",
    "import os\n",
    "\n",
    "def up_one_directory_level():\n",
    "    os.chdir(\"../\")\n",
    "\n",
    "if __name__== \"__main__\":\n",
    "    up_one_directory_level()\n",
    "    display_cwd()"
   ]
  },
  {
   "cell_type": "code",
   "execution_count": 5,
   "metadata": {},
   "outputs": [
    {
     "name": "stdout",
     "output_type": "stream",
     "text": [
      "/Users/anurag/Desktop/anurag_python/Learning_Python\n",
      "None\n",
      "/Users/anurag/Desktop/anurag_python\n",
      "day2\n",
      "README.md\n",
      ".github\n",
      "day1\n",
      ".git\n"
     ]
    }
   ],
   "source": [
    "##list files in folder\n",
    "def display_entries_in_directory(directory):\n",
    "    with os.scandir(directory) as entries:\n",
    "        for entry in entries:\n",
    "            print(entry.name)\n",
    "\n",
    "if __name__ == \"__main__\":\n",
    "    display_cwd()\n",
    "    up_one_directory_level()\n",
    "    display_cwd()\n",
    "    display_entries_in_directory('Learning_Python/')"
   ]
  }
 ],
 "metadata": {
  "kernelspec": {
   "display_name": "Python 3",
   "language": "python",
   "name": "python3"
  },
  "language_info": {
   "codemirror_mode": {
    "name": "ipython",
    "version": 3
   },
   "file_extension": ".py",
   "mimetype": "text/x-python",
   "name": "python",
   "nbconvert_exporter": "python",
   "pygments_lexer": "ipython3",
   "version": "3.12.0"
  }
 },
 "nbformat": 4,
 "nbformat_minor": 2
}
