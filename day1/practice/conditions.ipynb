{
 "cells": [
  {
   "cell_type": "markdown",
   "metadata": {},
   "source": [
    "Condition\n",
    "if, else, elif, nested conditions"
   ]
  },
  {
   "cell_type": "code",
   "execution_count": null,
   "metadata": {},
   "outputs": [
    {
     "name": "stdout",
     "output_type": "stream",
     "text": [
      "You have voting rite\n"
     ]
    }
   ],
   "source": [
    "## if else statement\n",
    "age=20\n",
    "\n",
    "if age>=18:\n",
    "    print(\"You have voting rite\")\n",
    "else:\n",
    "    print(\"No, get the hell out form here\")"
   ]
  },
  {
   "cell_type": "code",
   "execution_count": 4,
   "metadata": {},
   "outputs": [
    {
     "name": "stdout",
     "output_type": "stream",
     "text": [
      "You are a gaint\n"
     ]
    }
   ],
   "source": [
    "##elif\n",
    "height=8.2\n",
    "\n",
    "if height < 5:\n",
    "    print(\"You are under height\")\n",
    "elif height < 8:\n",
    "    print(\"Your height is good\")\n",
    "else:\n",
    "    print(\"You are a gaint\")"
   ]
  },
  {
   "cell_type": "code",
   "execution_count": 9,
   "metadata": {},
   "outputs": [
    {
     "name": "stdout",
     "output_type": "stream",
     "text": [
      "34 the number is positive\n",
      "34 Number is even\n"
     ]
    }
   ],
   "source": [
    "##Write a program that checks number is positive and even\n",
    "\n",
    "num = int(input(\"Enter a number: \"))\n",
    "\n",
    "if num>=0:\n",
    "    print(num,\"the number is positive\")\n",
    "    if num%2==0:\n",
    "        print(num, \"Number is even\")\n",
    "    else: \n",
    "        print(num, \"Number is Odd\")\n",
    "else:\n",
    "    print(num, \"The number is negative\")"
   ]
  },
  {
   "cell_type": "code",
   "execution_count": null,
   "metadata": {},
   "outputs": [
    {
     "name": "stdout",
     "output_type": "stream",
     "text": [
      "Leaf year\n"
     ]
    }
   ],
   "source": [
    "##write a program to check if a year is a leaf year\n",
    "\n",
    "year = int(input(\"Enter a year: \"))\n",
    "tempvar = len(str(year))\n",
    "if year%4==0:\n",
    "      if year%400==0:\n",
    "          print(\"Leaf year\")\n",
    "      else:\n",
    "           print(\"Not Leaf year\")\n",
    "else:\n",
    "     print(\"not a leaf year\")"
   ]
  },
  {
   "cell_type": "code",
   "execution_count": null,
   "metadata": {},
   "outputs": [
    {
     "name": "stdout",
     "output_type": "stream",
     "text": [
      "Please choose a valid operator, form the options 23 > 23\n",
      "0\n"
     ]
    }
   ],
   "source": [
    "##Simple calculator\n",
    "\n",
    "##Simple Calculator\n",
    "num_one=int(input(\"Enter first number: \"))\n",
    "num_two=int(input(\"Enter second number: \"))\n",
    "operator=input(\"Input any operator +,-,%,/,* \" )\n",
    "result=0\n",
    "\n",
    "if operator == \"+\":\n",
    "    result = num_one + num_two\n",
    "elif operator == \"-\":\n",
    "    result = num_one - num_two\n",
    "elif operator == \"*\":\n",
    "    result = num_one * num_two\n",
    "elif operator == \"/\":\n",
    "    result = num_one / num_two\n",
    "elif operator == \"%\":\n",
    "    result = num_one % num_two\n",
    "else:\n",
    "    print(\"Please choose a valid operator, form the options\",num_one, operator, num_two)\n",
    "\n",
    "print(result)"
   ]
  },
  {
   "cell_type": "code",
   "execution_count": 24,
   "metadata": {},
   "outputs": [
    {
     "name": "stdout",
     "output_type": "stream",
     "text": [
      "Price is 1$\n"
     ]
    }
   ],
   "source": [
    "##determine ticket price by age\n",
    "\n",
    "age = int(input(\"Enter the age: \"))\n",
    "\n",
    "if age < 18:\n",
    "    print(\"Price is 1$\")\n",
    "elif age > 18 and age <60:\n",
    "    print(\"Price is 5$\")\n",
    "else:\n",
    "    print(\"It's Free!\")\n"
   ]
  },
  {
   "cell_type": "code",
   "execution_count": null,
   "metadata": {},
   "outputs": [],
   "source": []
  }
 ],
 "metadata": {
  "kernelspec": {
   "display_name": "Python 3",
   "language": "python",
   "name": "python3"
  },
  "language_info": {
   "codemirror_mode": {
    "name": "ipython",
    "version": 3
   },
   "file_extension": ".py",
   "mimetype": "text/x-python",
   "name": "python",
   "nbconvert_exporter": "python",
   "pygments_lexer": "ipython3",
   "version": "3.12.0"
  }
 },
 "nbformat": 4,
 "nbformat_minor": 2
}
