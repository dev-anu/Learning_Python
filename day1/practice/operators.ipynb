{
 "cells": [
  {
   "cell_type": "markdown",
   "metadata": {},
   "source": [
    "Airthematic\n",
    "Comparision\n",
    "Logical"
   ]
  },
  {
   "cell_type": "code",
   "execution_count": null,
   "metadata": {},
   "outputs": [
    {
     "name": "stdout",
     "output_type": "stream",
     "text": [
      "2\n",
      "0\n",
      "100\n",
      "2.0\n"
     ]
    }
   ],
   "source": [
    "## Airthematic Operation\n",
    "a=10\n",
    "b=5\n",
    "result=a+b\n",
    "result=a-b\n",
    "result=a*b\n",
    "result=a/b\n",
    "floor_division=a//b ##divideds and give integer value where as in / it gives float - gives floor value\n",
    "modulas=a%b\n",
    "exponential=a**2 ##a to the power 2\n",
    "print(floor_division)\n",
    "print(modulas)\n",
    "print(exponential)\n",
    "print(result)"
   ]
  },
  {
   "cell_type": "code",
   "execution_count": null,
   "metadata": {},
   "outputs": [
    {
     "name": "stdout",
     "output_type": "stream",
     "text": [
      "True\n",
      "False\n"
     ]
    }
   ],
   "source": [
    "## Comparision Operators\n",
    "a=10\n",
    "b=10\n",
    "\n",
    "print(a==b)\n",
    "print(a!=b)\n",
    "print(a>b)\n",
    "print(a<b)\n",
    "print(a>=b)\n",
    "print(a<=b)\n"
   ]
  },
  {
   "cell_type": "code",
   "execution_count": 6,
   "metadata": {},
   "outputs": [
    {
     "name": "stdout",
     "output_type": "stream",
     "text": [
      "False\n",
      "True\n",
      "False\n"
     ]
    }
   ],
   "source": [
    "##Logical Operator\n",
    "##And ,OR, Not\n",
    "\n",
    "x=True\n",
    "y=False\n",
    "result= x and y\n",
    "print(result)\n",
    "result = x or y\n",
    "print(result)\n",
    "result= not x ## gives inverse of the value\n",
    "print(result)\n"
   ]
  }
 ],
 "metadata": {
  "kernelspec": {
   "display_name": "Python 3",
   "language": "python",
   "name": "python3"
  },
  "language_info": {
   "codemirror_mode": {
    "name": "ipython",
    "version": 3
   },
   "file_extension": ".py",
   "mimetype": "text/x-python",
   "name": "python",
   "nbconvert_exporter": "python",
   "pygments_lexer": "ipython3",
   "version": "3.12.0"
  }
 },
 "nbformat": 4,
 "nbformat_minor": 2
}
