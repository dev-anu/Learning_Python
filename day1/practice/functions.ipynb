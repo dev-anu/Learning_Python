{
 "cells": [
  {
   "cell_type": "markdown",
   "metadata": {},
   "source": [
    "Function\n",
    "is a block of code that helps us to perform a specificc task, helps us organizing code, code reusablity and improving readability."
   ]
  },
  {
   "cell_type": "code",
   "execution_count": null,
   "metadata": {},
   "outputs": [],
   "source": [
    "#syntax\n",
    "def function_name(parameters):\n",
    "    \"\"\"Docsting\"\"\"\n",
    "    #Function body\n",
    "    ##retrun expression"
   ]
  },
  {
   "cell_type": "code",
   "execution_count": 4,
   "metadata": {},
   "outputs": [
    {
     "name": "stdout",
     "output_type": "stream",
     "text": [
      "Odd\n",
      "Even\n"
     ]
    }
   ],
   "source": [
    "##Even number\n",
    "def oddEven(num):\n",
    "    if num%2==0:\n",
    "        return \"Even\"\n",
    "    else:\n",
    "        return \"Odd\"\n",
    "\n",
    "print(oddEven(5))\n",
    "print(oddEven(6))\n"
   ]
  },
  {
   "cell_type": "code",
   "execution_count": 5,
   "metadata": {},
   "outputs": [
    {
     "name": "stdout",
     "output_type": "stream",
     "text": [
      "101\n"
     ]
    }
   ],
   "source": [
    "##two params\n",
    "def add(a,b):\n",
    "    return a+b\n",
    "\n",
    "print(add(45,56))"
   ]
  },
  {
   "cell_type": "code",
   "execution_count": 6,
   "metadata": {},
   "outputs": [
    {
     "name": "stdout",
     "output_type": "stream",
     "text": [
      "1\n",
      "2\n",
      "4\n",
      "56\n",
      "4\n",
      "3\n",
      "Krish\n"
     ]
    }
   ],
   "source": [
    "##multi params\n",
    "def print_numbers(*krish):\n",
    "    for number in krish:\n",
    "        print(number)\n",
    "\n",
    "print_numbers(1,2,4,56,4,3,\"Krish\")"
   ]
  },
  {
   "cell_type": "code",
   "execution_count": 7,
   "metadata": {},
   "outputs": [
    {
     "name": "stdout",
     "output_type": "stream",
     "text": [
      " Positional args :1\n",
      " Positional args :2\n",
      " Positional args :3\n",
      " Positional args :4\n",
      " Positional args :5\n",
      " Positional args :Andy\n",
      "name:Anurag\n",
      "age:32\n",
      "country:India\n"
     ]
    }
   ],
   "source": [
    "def print_def(*args,**kwargs):\n",
    "    for val in args:\n",
    "        print(f\" Positional args :{val}\")\n",
    "    \n",
    "    for key,value in kwargs.items():\n",
    "        print(f\"{key}:{value}\")\n",
    "\n",
    "print_def(1,2,3,4,5,\"Andy\",name=\"Anurag\",age=\"32\",country=\"India\")"
   ]
  }
 ],
 "metadata": {
  "kernelspec": {
   "display_name": "Python 3",
   "language": "python",
   "name": "python3"
  },
  "language_info": {
   "codemirror_mode": {
    "name": "ipython",
    "version": 3
   },
   "file_extension": ".py",
   "mimetype": "text/x-python",
   "name": "python",
   "nbconvert_exporter": "python",
   "pygments_lexer": "ipython3",
   "version": "3.12.0"
  }
 },
 "nbformat": 4,
 "nbformat_minor": 2
}
