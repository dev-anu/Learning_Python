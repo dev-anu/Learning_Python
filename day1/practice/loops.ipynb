{
 "cells": [
  {
   "cell_type": "markdown",
   "metadata": {},
   "source": [
    "Loops\n",
    "1. Range\n",
    "2. Iterating over a string\n",
    "3. while loop\n",
    "4. Loop Control Statement\n",
    "    . break\n",
    "    . continue\n",
    "    . pass\n",
    "5. Nested Loop"
   ]
  },
  {
   "cell_type": "code",
   "execution_count": 3,
   "metadata": {},
   "outputs": [
    {
     "data": {
      "text/plain": [
       "range(1, 10, 2)"
      ]
     },
     "execution_count": 3,
     "metadata": {},
     "output_type": "execute_result"
    }
   ],
   "source": [
    "range(5) ##range\n",
    "range(1,5) ##range with start and end\n",
    "range(1,10,2) ##range with start and end and stepsize"
   ]
  },
  {
   "cell_type": "code",
   "execution_count": 2,
   "metadata": {},
   "outputs": [
    {
     "name": "stdout",
     "output_type": "stream",
     "text": [
      "1\n",
      "2\n",
      "3\n",
      "4\n",
      "5\n",
      "6\n"
     ]
    }
   ],
   "source": [
    "## for loop\n",
    "for i in range(1,7):\n",
    "    print(i)"
   ]
  },
  {
   "cell_type": "code",
   "execution_count": 6,
   "metadata": {},
   "outputs": [
    {
     "name": "stdout",
     "output_type": "stream",
     "text": [
      "2\n",
      "4\n",
      "6\n",
      "8\n",
      "10\n",
      "12\n",
      "14\n",
      "16\n",
      "18\n",
      "20\n"
     ]
    }
   ],
   "source": [
    "for i in range(2,21,2):\n",
    "    print(i)"
   ]
  },
  {
   "cell_type": "code",
   "execution_count": 7,
   "metadata": {},
   "outputs": [
    {
     "name": "stdout",
     "output_type": "stream",
     "text": [
      "10\n",
      "9\n",
      "8\n",
      "7\n",
      "6\n",
      "5\n",
      "4\n",
      "3\n",
      "2\n",
      "1\n"
     ]
    }
   ],
   "source": [
    "## negative looping\n",
    "for i in range(10,0,-1):\n",
    "    print(i)"
   ]
  },
  {
   "cell_type": "code",
   "execution_count": 8,
   "metadata": {},
   "outputs": [
    {
     "name": "stdout",
     "output_type": "stream",
     "text": [
      "K\n",
      "r\n",
      "i\n",
      "s\n",
      "h\n"
     ]
    }
   ],
   "source": [
    "##String looping\n",
    "str = \"Krish\"\n",
    "for i in str:\n",
    "    print(i)"
   ]
  },
  {
   "cell_type": "code",
   "execution_count": 9,
   "metadata": {},
   "outputs": [
    {
     "name": "stdout",
     "output_type": "stream",
     "text": [
      "0\n",
      "1\n",
      "2\n",
      "3\n",
      "4\n"
     ]
    }
   ],
   "source": [
    "##while loop - continues to execute until an condition is wrong\n",
    "\n",
    "count=0\n",
    "\n",
    "while count<5:\n",
    "    print(count)\n",
    "    count = count+1\n",
    "\n"
   ]
  },
  {
   "cell_type": "code",
   "execution_count": 17,
   "metadata": {},
   "outputs": [
    {
     "name": "stdout",
     "output_type": "stream",
     "text": [
      "6\n",
      "8\n",
      "10\n",
      "12\n",
      "14\n",
      "16\n",
      "18\n",
      "20\n",
      "22\n",
      "24\n",
      "26\n",
      "28\n",
      "30\n",
      "32\n",
      "34\n",
      "36\n",
      "38\n",
      "40\n",
      "42\n",
      "44\n",
      "46\n",
      "48\n",
      "50\n",
      "52\n",
      "54\n",
      "56\n",
      "58\n",
      "60\n",
      "62\n",
      "64\n",
      "66\n",
      "68\n",
      "70\n",
      "72\n",
      "74\n",
      "76\n",
      "78\n",
      "80\n",
      "82\n",
      "84\n",
      "86\n",
      "88\n",
      "90\n",
      "92\n",
      "94\n",
      "96\n",
      "98\n"
     ]
    }
   ],
   "source": [
    "##print all even number upto 100\n",
    "\n",
    "number = 5\n",
    "\n",
    "while number>1 and number < 100:\n",
    "    if number%2==0:\n",
    "        print(number)\n",
    "    number=number+1"
   ]
  },
  {
   "cell_type": "code",
   "execution_count": 19,
   "metadata": {},
   "outputs": [
    {
     "name": "stdout",
     "output_type": "stream",
     "text": [
      "0\n",
      "1\n",
      "2\n",
      "3\n",
      "4\n"
     ]
    }
   ],
   "source": [
    "##break\n",
    "\n",
    "for i in range(10):\n",
    "    if i ==5:\n",
    "        break\n",
    "    print(i)"
   ]
  },
  {
   "cell_type": "code",
   "execution_count": null,
   "metadata": {},
   "outputs": [
    {
     "name": "stdout",
     "output_type": "stream",
     "text": [
      "0\n",
      "1\n",
      "2\n",
      "3\n",
      "4\n",
      "6\n",
      "7\n",
      "8\n",
      "9\n"
     ]
    }
   ],
   "source": [
    "##continue - skips that perticualr condition and prints the rest\n",
    "for j in range(10):\n",
    "    if j == 5:\n",
    "        continue\n",
    "    print(j)"
   ]
  },
  {
   "cell_type": "code",
   "execution_count": 23,
   "metadata": {},
   "outputs": [
    {
     "name": "stdout",
     "output_type": "stream",
     "text": [
      "0\n",
      "1\n",
      "2\n",
      "3\n",
      "4\n",
      "j is  5\n",
      "5\n",
      "6\n",
      "7\n",
      "8\n",
      "9\n"
     ]
    }
   ],
   "source": [
    "#pass - you can do any thing here but it don;t not skip anything like continue\n",
    "for j in range(10):\n",
    "    if j == 5:\n",
    "        print(\"j is \",j)\n",
    "        pass\n",
    "    print(j)"
   ]
  },
  {
   "cell_type": "code",
   "execution_count": 24,
   "metadata": {},
   "outputs": [
    {
     "name": "stdout",
     "output_type": "stream",
     "text": [
      "i:0 and j:0\n",
      "i:0 and j:1\n",
      "i:1 and j:0\n",
      "i:1 and j:1\n",
      "i:2 and j:0\n",
      "i:2 and j:1\n"
     ]
    }
   ],
   "source": [
    "##Nested For Loop\n",
    "for i in range(3):\n",
    "    for j in range(2):\n",
    "        print(f\"i:{i} and j:{j}\")\n"
   ]
  },
  {
   "cell_type": "code",
   "execution_count": 25,
   "metadata": {},
   "outputs": [
    {
     "name": "stdout",
     "output_type": "stream",
     "text": [
      "j*i=2\n",
      "j*i=3\n",
      "j*i=4\n",
      "j*i=5\n",
      "j*i=6\n",
      "j*i=7\n",
      "j*i=8\n",
      "j*i=9\n",
      "j*i=4\n",
      "j*i=6\n",
      "j*i=8\n",
      "j*i=10\n",
      "j*i=12\n",
      "j*i=14\n",
      "j*i=16\n",
      "j*i=18\n",
      "j*i=6\n",
      "j*i=9\n",
      "j*i=12\n",
      "j*i=15\n",
      "j*i=18\n",
      "j*i=21\n",
      "j*i=24\n",
      "j*i=27\n",
      "j*i=8\n",
      "j*i=12\n",
      "j*i=16\n",
      "j*i=20\n",
      "j*i=24\n",
      "j*i=28\n",
      "j*i=32\n",
      "j*i=36\n",
      "j*i=10\n",
      "j*i=15\n",
      "j*i=20\n",
      "j*i=25\n",
      "j*i=30\n",
      "j*i=35\n",
      "j*i=40\n",
      "j*i=45\n",
      "j*i=12\n",
      "j*i=18\n",
      "j*i=24\n",
      "j*i=30\n",
      "j*i=36\n",
      "j*i=42\n",
      "j*i=48\n",
      "j*i=54\n",
      "j*i=14\n",
      "j*i=21\n",
      "j*i=28\n",
      "j*i=35\n",
      "j*i=42\n",
      "j*i=49\n",
      "j*i=56\n",
      "j*i=63\n",
      "j*i=16\n",
      "j*i=24\n",
      "j*i=32\n",
      "j*i=40\n",
      "j*i=48\n",
      "j*i=56\n",
      "j*i=64\n",
      "j*i=72\n",
      "j*i=18\n",
      "j*i=27\n",
      "j*i=36\n",
      "j*i=45\n",
      "j*i=54\n",
      "j*i=63\n",
      "j*i=72\n",
      "j*i=81\n"
     ]
    }
   ],
   "source": [
    "#Tables\n",
    "for i in range(1,10):\n",
    "    for j in range(2,10):\n",
    "        print(f\"j*i={j*i}\")"
   ]
  },
  {
   "cell_type": "code",
   "execution_count": 26,
   "metadata": {},
   "outputs": [
    {
     "name": "stdout",
     "output_type": "stream",
     "text": [
      "2\n",
      "3\n",
      "5\n",
      "7\n",
      "11\n",
      "13\n",
      "17\n",
      "19\n",
      "23\n",
      "29\n",
      "31\n",
      "37\n",
      "41\n",
      "43\n",
      "47\n",
      "53\n",
      "59\n",
      "61\n",
      "67\n",
      "71\n",
      "73\n",
      "79\n",
      "83\n",
      "89\n",
      "97\n"
     ]
    }
   ],
   "source": [
    "##Prime number\n",
    "for num in range(1,101):\n",
    "    if num>1:\n",
    "        for i in range(2,num):\n",
    "            if num%i==0:\n",
    "                break\n",
    "        else:\n",
    "            print(num)"
   ]
  }
 ],
 "metadata": {
  "kernelspec": {
   "display_name": "Python 3",
   "language": "python",
   "name": "python3"
  },
  "language_info": {
   "codemirror_mode": {
    "name": "ipython",
    "version": 3
   },
   "file_extension": ".py",
   "mimetype": "text/x-python",
   "name": "python",
   "nbconvert_exporter": "python",
   "pygments_lexer": "ipython3",
   "version": "3.12.0"
  }
 },
 "nbformat": 4,
 "nbformat_minor": 2
}
