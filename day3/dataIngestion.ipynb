{
 "cells": [
  {
   "cell_type": "markdown",
   "metadata": {},
   "source": [
    "Data Ingestion,\n",
    "Data Slippting  into chunks,\n",
    "Save in vector Database,\n",
    "Ask questions"
   ]
  },
  {
   "cell_type": "code",
   "execution_count": null,
   "metadata": {},
   "outputs": [
    {
     "name": "stdout",
     "output_type": "stream",
     "text": [
      "[Document(metadata={'source': 'my_notes.txt'}, page_content='Ancient–Medieval Disasters (before 1500\\u202fAD)\\nc.\\u202f1600\\u202fBC – Minoan eruption (Santorini): A VEI\\u202f6 eruption in the Aegean, estimated 20,000+ deaths \\nen.wikipedia.org\\n.\\n\\n79\\u202fAD – Vesuvius eruption: Destroyed Pompeii and Herculaneum, ~13,000+ killed .\\n\\n526\\u202fAD – Antioch earthquake: Struck Byzantine Syria/Türkiye, ~250,000 deaths \\nourworldindata.org\\n+15\\ngeographical.co.uk\\n+15\\nlivescience.com\\n+15\\n.\\n\\n1287 – St.\\u202fLucia’s Flood: Storm surge affecting Netherlands and Germany; tens of thousands killed \\nthesun.co.uk\\n+1\\nen.wikipedia.org\\n+1\\n.\\n\\n1350s–536 – “Volcanic winter” & Plague of Justinian: A series of volcanic eruptions followed by famine and plague across Europe \\nevergladesuniversity.edu\\n+12\\nthesun.co.uk\\n+12\\nen.wikipedia.org\\n+12\\n.\\n\\n🌊 Floods & Storms (1500–1900\\u202fAD)\\n1586 – Kelud eruption (Indonesia): ~10,000 deaths \\ndevelopmentaid.org\\n+3\\nen.wikipedia.org\\n+3\\nlivescience.com\\n+3\\n.\\n\\n1887 – Yellow River flood (China): One of the worst floods ever, 930,000–2 million killed \\nen.wikipedia.org\\n+1\\nen.wikipedia.org\\n+1\\n.\\n\\n🌋 Major Volcanic Eruptions (1800–1900\\u202fAD)\\n1815 – Mount\\u202fTambora (Indonesia): VEI\\u202f7; ~71,000–250,000 immediate fatalities + widespread famine (“Year Without a Summer”) \\nlivescience.com\\n+1\\nen.wikipedia.org\\n+1\\n.\\n\\n1883 – Krakatoa (Indonesia): VEI\\u202f6; ~36,000 killed \\napnews.com\\n+6\\nen.wikipedia.org\\n+6\\nen.wikipedia.org\\n+6\\n.\\n\\n⚠️ Early Modern Disasters (1900–1949)\\n1900 – Galveston Hurricane (USA): Category\\u202f4; 6,000–12,000 deaths \\nen.wikipedia.org\\n+4\\nbritannica.com\\n+4\\nevergladesuniversity.edu\\n+4\\n.\\n\\n1917–1918 – Spanish Flu Pandemic: A global catastrophe causing tens of millions of deaths (noted in pandemic context).\\n\\n1931 – Yangtze River floods (China): Deadliest flood of the 20th century; ~2 million deaths .\\n\\n1938 – Yellow River flood (China): 422,000–2 million killed \\nen.wikipedia.org\\n+2\\nen.wikipedia.org\\n+2\\nen.wikipedia.org\\n+2\\n.\\n\\n🌪️ Cyclones & Earthquakes (1950–1999)\\n1970 – Bhola Cyclone (Bangladesh East Pakistan): Deadliest cyclone ever; 300,000–500,000 deaths \\nen.wikipedia.org\\n+1\\ndevelopmentaid.org\\n+1\\n.\\n\\n1975 – Banqiao Dam failure (China): ~26,000–240,000 deaths due to dam collapse and floods \\nen.wikipedia.org\\n+1\\nbritannica.com\\n+1\\n.\\n\\n1999 – Izmit earthquake (Turkey): ~18,000 deaths \\napnews.com\\n.\\n\\n🌎 Recent Major Disasters (2000–present)\\n2004 – Indian Ocean Tsunami: ~230,000 deaths across 14 countries \\napnews.com\\n.\\n\\n2005 – Kashmir earthquake (Pakistan/India): ~80,000 deaths .\\n\\n2008 – Sichuan earthquake (China): ~87,500 deaths \\nen.wikipedia.org\\n+15\\nlivescience.com\\n+15\\ndevelopmentaid.org\\n+15\\n.\\n\\n2010 – Haiti earthquake: 100,000–316,000 deaths \\napnews.com\\n.\\n\\n2011 – Tōhoku earthquake & tsunami (Japan): ~18,400 deaths \\nen.wikipedia.org\\n+14\\ndevelopmentaid.org\\n+14\\nen.wikipedia.org\\n+14\\n.\\n\\n2017 – Hurricane Maria (Puerto Rico): ~4,600 deaths \\nlemonde.fr\\n+7\\nlivescience.com\\n+7\\nevergladesuniversity.edu\\n+7\\n.\\n\\n2019–2020 – Australia bushfires: 33 direct deaths, plus ~445 from smoke inhalation \\nlivescience.com\\n.\\n\\n2023 – Morocco earthquake: ~2,100 deaths \\napnews.com\\n.\\n\\n2023 – Turkey/Syria earthquake: ~21,600 deaths \\napnews.com\\n.\\n\\n')]\n"
     ]
    }
   ],
   "source": [
    "#Text Loader\n",
    "from langchain_community.document_loaders import TextLoader\n",
    "loaderText = TextLoader(\"my_notes.txt\")\n",
    "documents = loaderText.load()\n",
    "print(documents)\n"
   ]
  },
  {
   "cell_type": "code",
   "execution_count": null,
   "metadata": {},
   "outputs": [
    {
     "name": "stdout",
     "output_type": "stream",
     "text": [
      "[Document(metadata={'producer': 'iText® 5.5.13.3 ©2000-2022 iText Group NV (AGPL-version)', 'creator': 'PyPDF', 'creationdate': '2025-03-28T19:47:20+05:30', 'moddate': '2025-03-28T19:47:20+05:30', 'source': 'online-receipt.pdf', 'total_pages': 1, 'page': 0, 'page_label': '1'}, page_content='Printed Date :28-03-2025\\nPayment Reciept\\n*This is computer generated Receipt and hence Signature is Not Required.\\nRefrence No. BHD5G3G0GW41F8 Payment Source P001\\nCollection Date 28-03-2025 Account no. 0091210000\\nPayment Mode Credit / Debit Card Due Bill Amount 972\\nConsumer Name MANOJ KUMAR TRIPATHI\\nPayment Type Bill Payment\\nTotal Amount Recieved : 972 ( Rupees Nine Hundred Seventy Two only.)')]\n"
     ]
    }
   ],
   "source": [
    "#PDF Loeader\n",
    "from langchain_community.document_loaders import PyPDFLoader\n",
    "loaderPdf = PyPDFLoader(\"online-receipt.pdf\")\n",
    "pdfDoc=loaderPdf.load()\n",
    "print(pdfDoc)"
   ]
  },
  {
   "cell_type": "code",
   "execution_count": 7,
   "metadata": {},
   "outputs": [
    {
     "name": "stdout",
     "output_type": "stream",
     "text": [
      "[Document(metadata={'source': 'my_notes.txt'}, page_content='Ancient–Medieval Disasters (before 1500\\u202fAD)\\nc.\\u202f1600\\u202fBC – Minoan eruption (Santorini): A VEI\\u202f6 eruption in the Aegean, estimated 20,000+ deaths \\nen.wikipedia.org\\n.\\n\\n79\\u202fAD – Vesuvius eruption: Destroyed Pompeii and Herculaneum, ~13,000+ killed .\\n\\n526\\u202fAD – Antioch earthquake: Struck Byzantine Syria/Türkiye, ~250,000 deaths \\nourworldindata.org\\n+15\\ngeographical.co.uk\\n+15\\nlivescience.com\\n+15\\n.'), Document(metadata={'source': 'my_notes.txt'}, page_content='1287 – St.\\u202fLucia’s Flood: Storm surge affecting Netherlands and Germany; tens of thousands killed \\nthesun.co.uk\\n+1\\nen.wikipedia.org\\n+1\\n.\\n\\n1350s–536 – “Volcanic winter” & Plague of Justinian: A series of volcanic eruptions followed by famine and plague across Europe \\nevergladesuniversity.edu\\n+12\\nthesun.co.uk\\n+12\\nen.wikipedia.org\\n+12\\n.\\n\\n🌊 Floods & Storms (1500–1900\\u202fAD)\\n1586 – Kelud eruption (Indonesia): ~10,000 deaths \\ndevelopmentaid.org\\n+3\\nen.wikipedia.org\\n+3\\nlivescience.com\\n+3\\n.'), Document(metadata={'source': 'my_notes.txt'}, page_content='1887 – Yellow River flood (China): One of the worst floods ever, 930,000–2 million killed \\nen.wikipedia.org\\n+1\\nen.wikipedia.org\\n+1\\n.\\n\\n🌋 Major Volcanic Eruptions (1800–1900\\u202fAD)\\n1815 – Mount\\u202fTambora (Indonesia): VEI\\u202f7; ~71,000–250,000 immediate fatalities + widespread famine (“Year Without a Summer”) \\nlivescience.com\\n+1\\nen.wikipedia.org\\n+1\\n.\\n\\n1883 – Krakatoa (Indonesia): VEI\\u202f6; ~36,000 killed \\napnews.com\\n+6\\nen.wikipedia.org\\n+6\\nen.wikipedia.org\\n+6\\n.'), Document(metadata={'source': 'my_notes.txt'}, page_content='⚠️ Early Modern Disasters (1900–1949)\\n1900 – Galveston Hurricane (USA): Category\\u202f4; 6,000–12,000 deaths \\nen.wikipedia.org\\n+4\\nbritannica.com\\n+4\\nevergladesuniversity.edu\\n+4\\n.\\n\\n1917–1918 – Spanish Flu Pandemic: A global catastrophe causing tens of millions of deaths (noted in pandemic context).\\n\\n1931 – Yangtze River floods (China): Deadliest flood of the 20th century; ~2 million deaths .'), Document(metadata={'source': 'my_notes.txt'}, page_content='1938 – Yellow River flood (China): 422,000–2 million killed \\nen.wikipedia.org\\n+2\\nen.wikipedia.org\\n+2\\nen.wikipedia.org\\n+2\\n.\\n\\n🌪️ Cyclones & Earthquakes (1950–1999)\\n1970 – Bhola Cyclone (Bangladesh East Pakistan): Deadliest cyclone ever; 300,000–500,000 deaths \\nen.wikipedia.org\\n+1\\ndevelopmentaid.org\\n+1\\n.\\n\\n1975 – Banqiao Dam failure (China): ~26,000–240,000 deaths due to dam collapse and floods \\nen.wikipedia.org\\n+1\\nbritannica.com\\n+1\\n.\\n\\n1999 – Izmit earthquake (Turkey): ~18,000 deaths \\napnews.com\\n.'), Document(metadata={'source': 'my_notes.txt'}, page_content='🌎 Recent Major Disasters (2000–present)\\n2004 – Indian Ocean Tsunami: ~230,000 deaths across 14 countries \\napnews.com\\n.\\n\\n2005 – Kashmir earthquake (Pakistan/India): ~80,000 deaths .\\n\\n2008 – Sichuan earthquake (China): ~87,500 deaths \\nen.wikipedia.org\\n+15\\nlivescience.com\\n+15\\ndevelopmentaid.org\\n+15\\n.\\n\\n2010 – Haiti earthquake: 100,000–316,000 deaths \\napnews.com\\n.\\n\\n2011 – Tōhoku earthquake & tsunami (Japan): ~18,400 deaths \\nen.wikipedia.org\\n+14\\ndevelopmentaid.org\\n+14\\nen.wikipedia.org\\n+14\\n.'), Document(metadata={'source': 'my_notes.txt'}, page_content='2017 – Hurricane Maria (Puerto Rico): ~4,600 deaths \\nlemonde.fr\\n+7\\nlivescience.com\\n+7\\nevergladesuniversity.edu\\n+7\\n.\\n\\n2019–2020 – Australia bushfires: 33 direct deaths, plus ~445 from smoke inhalation \\nlivescience.com\\n.\\n\\n2023 – Morocco earthquake: ~2,100 deaths \\napnews.com\\n.\\n\\n2023 – Turkey/Syria earthquake: ~21,600 deaths \\napnews.com\\n.')]\n",
      "page_content='1287 – St. Lucia’s Flood: Storm surge affecting Netherlands and Germany; tens of thousands killed \n",
      "thesun.co.uk\n",
      "+1\n",
      "en.wikipedia.org\n",
      "+1\n",
      ".\n",
      "\n",
      "1350s–536 – “Volcanic winter” & Plague of Justinian: A series of volcanic eruptions followed by famine and plague across Europe \n",
      "evergladesuniversity.edu\n",
      "+12\n",
      "thesun.co.uk\n",
      "+12\n",
      "en.wikipedia.org\n",
      "+12\n",
      ".\n",
      "\n",
      "🌊 Floods & Storms (1500–1900 AD)\n",
      "1586 – Kelud eruption (Indonesia): ~10,000 deaths \n",
      "developmentaid.org\n",
      "+3\n",
      "en.wikipedia.org\n",
      "+3\n",
      "livescience.com\n",
      "+3\n",
      ".' metadata={'source': 'my_notes.txt'}\n"
     ]
    }
   ],
   "source": [
    "##Splitter Langchain Text doc into chunks\n",
    "##1. Recursively split text by characters\n",
    "from langchain_text_splitters import RecursiveCharacterTextSplitter\n",
    "text_splitter=RecursiveCharacterTextSplitter(chunk_size=500,chunk_overlap=50)\n",
    "final_document = text_splitter.split_documents(documents)\n",
    "print(final_document)\n",
    "print(final_document[1])\n"
   ]
  },
  {
   "cell_type": "code",
   "execution_count": 10,
   "metadata": {},
   "outputs": [
    {
     "name": "stdout",
     "output_type": "stream",
     "text": [
      "<langchain_text_splitters.character.CharacterTextSplitter object at 0x107cf4d10>\n"
     ]
    }
   ],
   "source": [
    "#2. Character Text Splitter\n",
    "from langchain_text_splitters import CharacterTextSplitter\n",
    "char_splitter = CharacterTextSplitter(separator=\"\",chunk_size=100,chunk_overlap=20)\n",
    "char_splitter.split_documents(documents)\n",
    "print(char_splitter)"
   ]
  },
  {
   "cell_type": "code",
   "execution_count": null,
   "metadata": {},
   "outputs": [],
   "source": []
  }
 ],
 "metadata": {
  "kernelspec": {
   "display_name": "venv",
   "language": "python",
   "name": "python3"
  },
  "language_info": {
   "codemirror_mode": {
    "name": "ipython",
    "version": 3
   },
   "file_extension": ".py",
   "mimetype": "text/x-python",
   "name": "python",
   "nbconvert_exporter": "python",
   "pygments_lexer": "ipython3",
   "version": "3.12.7"
  }
 },
 "nbformat": 4,
 "nbformat_minor": 2
}
